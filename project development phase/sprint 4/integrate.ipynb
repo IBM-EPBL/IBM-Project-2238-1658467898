{
 "cells": [
  {
   "cell_type": "markdown",
   "id": "36d2fcbc",
   "metadata": {},
   "source": [
    "## Integrating Flask with IBM Cloud"
   ]
  },
  {
   "cell_type": "code",
   "execution_count": 1,
   "id": "40a673bc",
   "metadata": {},
   "outputs": [
    {
     "ename": "ModuleNotFoundError",
     "evalue": "No module named 'pandas'",
     "output_type": "error",
     "traceback": [
      "\u001b[0;31m---------------------------------------------------------------------------\u001b[0m",
      "\u001b[0;31mModuleNotFoundError\u001b[0m                       Traceback (most recent call last)",
      "Cell \u001b[0;32mIn [1], line 5\u001b[0m\n\u001b[1;32m      3\u001b[0m \u001b[38;5;28;01mfrom\u001b[39;00m \u001b[38;5;21;01mflask\u001b[39;00m \u001b[38;5;28;01mimport\u001b[39;00m Flask, request, render_template\n\u001b[1;32m      4\u001b[0m \u001b[38;5;28;01mimport\u001b[39;00m \u001b[38;5;21;01mnumpy\u001b[39;00m \u001b[38;5;28;01mas\u001b[39;00m \u001b[38;5;21;01mnp\u001b[39;00m\n\u001b[0;32m----> 5\u001b[0m \u001b[38;5;28;01mimport\u001b[39;00m \u001b[38;5;21;01mpandas\u001b[39;00m \u001b[38;5;28;01mas\u001b[39;00m \u001b[38;5;21;01mpd\u001b[39;00m\n\u001b[1;32m      6\u001b[0m \u001b[38;5;28;01mfrom\u001b[39;00m \u001b[38;5;21;01msklearn\u001b[39;00m \u001b[38;5;28;01mimport\u001b[39;00m metrics \n\u001b[1;32m      7\u001b[0m \u001b[38;5;28;01mimport\u001b[39;00m \u001b[38;5;21;01mwarnings\u001b[39;00m\n",
      "\u001b[0;31mModuleNotFoundError\u001b[0m: No module named 'pandas'"
     ]
    }
   ],
   "source": [
    "#importing required libraries\n",
    "\n",
    "from flask import Flask, request, render_template\n",
    "import numpy as np\n",
    "import pandas as pd\n",
    "from sklearn import metrics \n",
    "import warnings\n",
    "import pickle\n",
    "import requests\n",
    "warnings.filterwarnings('ignore')\n",
    "from feature import FeatureExtraction\n",
    "\n",
    "file = open(\"model.pkl\",\"rb\")\n",
    "gbc = pickle.load(file)\n",
    "file.close()\n",
    "\n",
    "# NOTE: you must manually set API_KEY below using information retrieved from your IBM Cloud account.\n",
    "API_KEY = \"cWGD5yTjEpEGtqPpvHPDBElN5eXFS7eh2JRDyUWhySMW\"\n",
    "token_response = requests.post('https://iam.cloud.ibm.com/identity/token', data={\"apikey\":\n",
    " API_KEY, \"grant_type\": 'urn:ibm:params:oauth:grant-type:apikey'})\n",
    "mltoken = token_response.json()[\"access_token\"]\n",
    "\n",
    "header = {'Content-Type': 'application/json', 'Authorization': 'Bearer ' + mltoken}\n",
    "\n",
    "\n",
    "app = Flask(__name__)\n",
    "\n",
    "@app.route(\"/\", methods=[\"GET\", \"POST\"])\n",
    "def index():\n",
    "    if request.method == \"POST\":\n",
    "\n",
    "        url = request.form[\"url\"]\n",
    "        obj = FeatureExtraction(url)\n",
    "        x = np.array(obj.getFeaturesList()).reshape(1,30) \n",
    "\n",
    "        y_pred =gbc.predict(x)[0]\n",
    "        #1 is safe       \n",
    "        #-1 is unsafe\n",
    "        y_pro_phishing = gbc.predict_proba(x)[0,0]\n",
    "        y_pro_non_phishing = gbc.predict_proba(x)[0,1]\n",
    "        # if(y_pred ==1 ):\n",
    "        pred = \"It is {0:.2f} % safe to go \".format(y_pro_phishing*100)\n",
    "        payload_scoring = {\"input_data\": [{\"field\": [[\"UsingIP\",\"LongURL\",\"ShortURL\",\"Symbol@\",\"Redirecting//\",\"PrefixSuffix-\",\"SubDomains\",\"HTTPS\",\"DomainRegLen\",\"Favicon\",\"NonStdPort\",\"HTTPSDomainURL\",\"RequestURL\",\"AnchorURL\",\"LinksInScriptTags\",\"ServerFormHandler\",\"InfoEmail\",\"AbnormalURL\",\"WebsiteForwarding\",\"StatusBarCust\",\"DisableRightClick\",\"UsingPopupWindow\",\"IframeRedirection\",\"AgeofDomain\",\"DNSRecording\",\"WebsiteTraffic\",\"PageRank\",\"GoogleIndex\",\"LinksPointingToPage\",\"StatsReport\"\n",
    "]], \"values\": [[1,1,1,1,1,-1,-1,-1,-1,1,1,1,1,-1,-1,1,1,1,0,1,1,1,1,-1,-1,-1,-1,1,0,1]]}]}\n",
    "        response_scoring = requests.post('https://us-south.ml.cloud.ibm.com/ml/v4/deployments/084b5c52-f617-40ef-a0e8-3e6cf79ae447/predictions?version=2022-11-06', json=payload_scoring,\n",
    "        headers={'Authorization': 'Bearer ' + mltoken})\n",
    "        print(\"Scoring response\")\n",
    "        predictions=response_scoring.json()\n",
    "#print(predictions)\n",
    "        pred=print(predictions['predictions'][0]['values'][0][0])\n",
    "        return render_template('index.html',xx =round(y_pro_non_phishing,2),url=url )\n",
    "    return render_template(\"index.html\", xx =-1)\n",
    "    \n",
    "\n",
    "if __name__ == \"__main__\":\n",
    "    app.run(debug=True,port=2020)\n"
   ]
  },
  {
   "cell_type": "code",
   "execution_count": null,
   "id": "c00b2ab7",
   "metadata": {},
   "outputs": [],
   "source": []
  },
  {
   "cell_type": "code",
   "execution_count": null,
   "id": "6962d974",
   "metadata": {},
   "outputs": [],
   "source": []
  },
  {
   "cell_type": "code",
   "execution_count": 2,
   "id": "987e37e5",
   "metadata": {},
   "outputs": [
    {
     "name": "stdout",
     "output_type": "stream",
     "text": [
      "hai\n"
     ]
    }
   ],
   "source": [
    "print(\"hai\")"
   ]
  },
  {
   "cell_type": "code",
   "execution_count": null,
   "id": "85d7411f",
   "metadata": {},
   "outputs": [],
   "source": []
  }
 ],
 "metadata": {
  "kernelspec": {
   "display_name": "Python 3 (ipykernel)",
   "language": "python",
   "name": "python3"
  },
  "language_info": {
   "codemirror_mode": {
    "name": "ipython",
    "version": 3
   },
   "file_extension": ".py",
   "mimetype": "text/x-python",
   "name": "python",
   "nbconvert_exporter": "python",
   "pygments_lexer": "ipython3",
   "version": "3.11.0"
  }
 },
 "nbformat": 4,
 "nbformat_minor": 5
}
